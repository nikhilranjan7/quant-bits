{
 "cells": [
  {
   "cell_type": "code",
   "execution_count": 1,
   "id": "c59a2f06",
   "metadata": {},
   "outputs": [
    {
     "name": "stdout",
     "output_type": "stream",
     "text": [
      "              Open         High          Low        Close    Adj Close  \\\n",
      "count  7049.000000  7049.000000  7049.000000  7049.000000  7049.000000   \n",
      "mean     23.996741    24.348550    23.616263    23.972943    19.375810   \n",
      "std      10.346636    10.475448    10.175022    10.319805     8.358599   \n",
      "min       6.080000     6.230000     5.910000     5.940000     5.239073   \n",
      "25%      16.760000    17.010000    16.500000    16.740000    13.238854   \n",
      "50%      20.500000    20.830000    20.160000    20.500000    16.827682   \n",
      "75%      29.030001    29.459999    28.650000    29.000000    23.035448   \n",
      "max      55.540001    55.950001    55.090000    55.630001    45.596268   \n",
      "\n",
      "             Volume          H-L  \n",
      "count  7.049000e+03  7049.000000  \n",
      "mean   8.974328e+06     0.732287  \n",
      "std    8.196953e+06     0.534606  \n",
      "min    1.498000e+05     0.080000  \n",
      "25%    2.050300e+06     0.399999  \n",
      "50%    6.910800e+06     0.570000  \n",
      "75%    1.348230e+07     0.889999  \n",
      "max    7.445820e+07     6.260002  \n"
     ]
    }
   ],
   "source": [
    "import pandas as pd\n",
    "from pandas import DataFrame\n",
    "\n",
    "df = pd.read_csv('C:\\\\Users\\\\hsahn\\\\Downloads\\\\GOLD.csv', index_col = 'Date', parse_dates=True)\n",
    "df['H-L'] = df.High - df.Low\n",
    "\n",
    "print(df.describe())"
   ]
  },
  {
   "cell_type": "code",
   "execution_count": 2,
   "id": "71ba18d1",
   "metadata": {},
   "outputs": [
    {
     "name": "stdout",
     "output_type": "stream",
     "text": [
      "               Open      High       Low     Close  Adj Close    Volume  \\\n",
      "Open       1.000000  0.999351  0.999291  0.998576   0.980181 -0.097450   \n",
      "High       0.999351  1.000000  0.999083  0.999333   0.980809 -0.090725   \n",
      "Low        0.999291  0.999083  1.000000  0.999359   0.980662 -0.105913   \n",
      "Close      0.998576  0.999333  0.999359  1.000000   0.981368 -0.098650   \n",
      "Adj Close  0.980181  0.980809  0.980662  0.981368   1.000000  0.038805   \n",
      "Volume    -0.097450 -0.090725 -0.105913 -0.098650   0.038805  1.000000   \n",
      "H-L        0.562737  0.579417  0.543984  0.561091   0.553956  0.238093   \n",
      "\n",
      "                H-L  \n",
      "Open       0.562737  \n",
      "High       0.579417  \n",
      "Low        0.543984  \n",
      "Close      0.561091  \n",
      "Adj Close  0.553956  \n",
      "Volume     0.238093  \n",
      "H-L        1.000000  \n"
     ]
    }
   ],
   "source": [
    "print(df.corr())"
   ]
  },
  {
   "cell_type": "code",
   "execution_count": 3,
   "id": "f1318237",
   "metadata": {},
   "outputs": [
    {
     "name": "stdout",
     "output_type": "stream",
     "text": [
      "                   Open          High           Low         Close  \\\n",
      "Open       1.070529e+02  1.083153e+02  1.052026e+02  1.066232e+02   \n",
      "High       1.083153e+02  1.097350e+02  1.064901e+02  1.080325e+02   \n",
      "Low        1.052026e+02  1.064901e+02  1.035311e+02  1.049370e+02   \n",
      "Close      1.066232e+02  1.080325e+02  1.049370e+02  1.064984e+02   \n",
      "Adj Close  8.476938e+01  8.587966e+01  8.340427e+01  8.465192e+01   \n",
      "Volume    -8.264838e+06 -7.790269e+06 -8.833624e+06 -8.344889e+06   \n",
      "H-L        3.112708e+00  3.244872e+00  2.959069e+00  3.095553e+00   \n",
      "\n",
      "              Adj Close        Volume           H-L  \n",
      "Open       8.476938e+01 -8.264838e+06  3.112708e+00  \n",
      "High       8.587966e+01 -7.790269e+06  3.244872e+00  \n",
      "Low        8.340427e+01 -8.833624e+06  2.959069e+00  \n",
      "Close      8.465192e+01 -8.344889e+06  3.095553e+00  \n",
      "Adj Close  6.986617e+01  2.658735e+06  2.475383e+00  \n",
      "Volume     2.658735e+06  6.719003e+13  1.043355e+06  \n",
      "H-L        2.475383e+00  1.043355e+06  2.858036e-01  \n"
     ]
    }
   ],
   "source": [
    "print(df.cov())"
   ]
  },
  {
   "cell_type": "code",
   "execution_count": 4,
   "id": "959a51f6",
   "metadata": {},
   "outputs": [
    {
     "name": "stdout",
     "output_type": "stream",
     "text": [
      "          Volume       H-L\n",
      "Volume  1.000000  0.238093\n",
      "H-L     0.238093  1.000000\n"
     ]
    }
   ],
   "source": [
    "print( df[['Volume','H-L']].corr())"
   ]
  },
  {
   "cell_type": "code",
   "execution_count": 5,
   "id": "b39a22f7",
   "metadata": {},
   "outputs": [
    {
     "name": "stdout",
     "output_type": "stream",
     "text": [
      "             Open    High     Low   Close  Adj Close   Volume\n",
      "Date                                                         \n",
      "1995-02-22  21.75  22.500  21.750  22.250  15.591628  1938700\n",
      "1995-02-23  22.25  22.375  21.875  21.875  15.328854  1013100\n",
      "1995-02-24  22.00  22.000  21.500  21.625  15.153659  1392300\n",
      "1995-02-27  21.50  21.875  21.375  21.750  15.241261   765300\n",
      "1995-02-28  21.75  22.000  21.750  21.750  15.241261   658000\n"
     ]
    }
   ],
   "source": [
    "import datetime\n",
    "import pandas as pd\n",
    "\n",
    "\n",
    "\n",
    "\n",
    "GOLD = pd.read_csv('C:\\\\Users\\\\hsahn\\\\Downloads\\\\GOLD.csv', index_col = 'Date', parse_dates=True)\n",
    "SPY = pd.read_csv('C:\\\\Users\\\\hsahn\\\\Downloads\\\\SPY.csv', index_col = 'Date', parse_dates=True)\n",
    "TLT = pd.read_csv('C:\\\\Users\\\\hsahn\\\\Downloads\\\\TLT.csv', index_col = 'Date', parse_dates=True)\n",
    "VIX = pd.read_csv('C:\\\\Users\\\\hsahn\\\\Downloads\\\\^VIX.csv', index_col = 'Date', parse_dates=True)\n",
    "CL = pd.read_csv('C:\\\\Users\\\\hsahn\\\\Downloads\\\\CL2.csv', index_col = 'Date', parse_dates=True)\n",
    "\n",
    "print(GOLD.head())"
   ]
  },
  {
   "cell_type": "code",
   "execution_count": 6,
   "id": "7bfaf74a",
   "metadata": {},
   "outputs": [],
   "source": [
    "del GOLD['Open']\n",
    "del GOLD['High']\n",
    "del GOLD['Low']\n",
    "del GOLD['Close']\n",
    "del GOLD['Volume']"
   ]
  },
  {
   "cell_type": "code",
   "execution_count": 7,
   "id": "cb85ccc3",
   "metadata": {},
   "outputs": [],
   "source": [
    "del SPY['Open']\n",
    "del SPY['High']\n",
    "del SPY['Low']\n",
    "del SPY['Close']\n",
    "del SPY['Volume']"
   ]
  },
  {
   "cell_type": "code",
   "execution_count": 8,
   "id": "7848a9b9",
   "metadata": {},
   "outputs": [],
   "source": [
    "del TLT['Open']\n",
    "del TLT['High']\n",
    "del TLT['Low']\n",
    "del TLT['Close']\n",
    "del TLT['Volume']"
   ]
  },
  {
   "cell_type": "code",
   "execution_count": 9,
   "id": "9db00584",
   "metadata": {},
   "outputs": [],
   "source": [
    "del VIX['Open']\n",
    "del VIX['High']\n",
    "del VIX['Low']\n",
    "del VIX['Close']\n",
    "del VIX['Volume']"
   ]
  },
  {
   "cell_type": "code",
   "execution_count": 10,
   "id": "e7f95d86",
   "metadata": {},
   "outputs": [],
   "source": [
    "del CL['Open']\n",
    "del CL['High']\n",
    "del CL['Low']\n",
    "del CL['Volume']"
   ]
  },
  {
   "cell_type": "code",
   "execution_count": 11,
   "id": "5daa4c47",
   "metadata": {},
   "outputs": [],
   "source": [
    "corComp = GOLD"
   ]
  },
  {
   "cell_type": "code",
   "execution_count": 12,
   "id": "7b1a9817",
   "metadata": {},
   "outputs": [],
   "source": [
    "corComp.rename(columns={'Adj Close': 'GOLD'}, inplace=True)"
   ]
  },
  {
   "cell_type": "code",
   "execution_count": 14,
   "id": "9baf4fe4",
   "metadata": {},
   "outputs": [
    {
     "name": "stdout",
     "output_type": "stream",
     "text": [
      "                 GOLD        SPY  TLT    VIX     CL\n",
      "Date                                               \n",
      "1995-02-22  15.591628  29.477257  NaN  11.39  18.63\n",
      "1995-02-23  15.328854  29.524464  NaN  11.15  18.43\n",
      "1995-02-24  15.153659  29.599974  NaN  10.84  18.69\n",
      "1995-02-27  15.241261  29.364000  NaN  12.51  18.66\n",
      "1995-02-28  15.241261  29.609398  NaN  11.75  18.49\n"
     ]
    }
   ],
   "source": [
    "corComp['SPY'] = SPY['Adj Close']\n",
    "corComp['TLT'] = TLT['Adj Close']\n",
    "corComp['VIX'] = VIX['Adj Close']\n",
    "corComp['CL'] = CL['Price']\n",
    "\n",
    "\n",
    "print(corComp.head())"
   ]
  },
  {
   "cell_type": "code",
   "execution_count": 15,
   "id": "d294af61",
   "metadata": {},
   "outputs": [
    {
     "name": "stdout",
     "output_type": "stream",
     "text": [
      "          GOLD       SPY       TLT       VIX        CL\n",
      "GOLD  1.000000 -0.123312 -0.219754  0.112175  0.569838\n",
      "SPY  -0.123312  1.000000  0.852083 -0.072870  0.336849\n",
      "TLT  -0.219754  0.852083  1.000000  0.013791 -0.022829\n",
      "VIX   0.112175 -0.072870  0.013791  1.000000 -0.132033\n",
      "CL    0.569838  0.336849 -0.022829 -0.132033  1.000000\n"
     ]
    }
   ],
   "source": [
    "print( corComp.corr())"
   ]
  },
  {
   "cell_type": "code",
   "execution_count": 20,
   "id": "b95da54b",
   "metadata": {},
   "outputs": [
    {
     "data": {
      "image/png": "[encoded data removed]",
      "text/plain": [
       "<Figure size 640x480 with 1 Axes>"
      ]
     },
     "metadata": {},
     "output_type": "display_data"
    }
   ],
   "source": [
    "#from sklearn import datasets  \n",
    "import pandas as pd  \n",
    "import seaborn  \n",
    "import matplotlib. pyplot as pt  \n",
    "#dataset = datasets. load_iris ()  \n",
    "#dataframe = pd. DataFrame (data = dataset. data, columns = dataset. feature_names)  \n",
    "#dataframe [\"relation\"] = dataset. target  \n",
    "correlation = corComp.corr()  \n",
    "barplot = seaborn.barplot(correlation)  \n",
    "barplot.set (xlabel = 'Correlation values on x axis',ylabel = 'Correlation values on y axis', title = \"Correlation matrix of STOCKS \\n\")  \n",
    "pt. show ()  "
   ]
  },
  {
   "cell_type": "code",
   "execution_count": null,
   "id": "8ffa5428",
   "metadata": {},
   "outputs": [],
   "source": []
  }
 ],
 "metadata": {
  "kernelspec": {
   "display_name": "Python 3 (ipykernel)",
   "language": "python",
   "name": "python3"
  },
  "language_info": {
   "codemirror_mode": {
    "name": "ipython",
    "version": 3
   },
   "file_extension": ".py",
   "mimetype": "text/x-python",
   "name": "python",
   "nbconvert_exporter": "python",
   "pygments_lexer": "ipython3",
   "version": "3.10.7"
  }
 },
 "nbformat": 4,
 "nbformat_minor": 5
}
