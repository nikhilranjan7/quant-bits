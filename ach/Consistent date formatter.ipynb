{
 "cells": [
  {
   "cell_type": "code",
   "execution_count": 1,
   "id": "962ee8ca",
   "metadata": {},
   "outputs": [],
   "source": [
    "import pandas as pd\n",
    "import matplotlib.pyplot as plt\n",
    "\n",
    "dfs = []\n",
    "for asset_class in ['SPY', 'GLD', 'TLT', '^VIX', 'CL']:\n",
    "    filename = f'{asset_class}.csv'\n",
    "    df = pd.read_csv(filename, usecols=['Date', 'Close'], parse_dates=['Date'], dayfirst=True)\n",
    "    df = df.rename(columns={'Close': f'Close_{asset_class}'})\n",
    "    dfs.append(df)\n",
    "\n",
    "merged_df = dfs[0]\n",
    "for df in dfs[1:]:\n",
    "    merged_df = pd.merge(merged_df, df, on='Date', how='inner')\n",
    "merged_df['Date'] = pd.to_datetime(merged_df['Date'], format='%d-%m-%Y')\n",
    "\n",
    "merged_df.to_csv('final.csv', index=False)\n"
   ]
  },
  {
   "cell_type": "code",
   "execution_count": null,
   "id": "63ee944d",
   "metadata": {},
   "outputs": [],
   "source": [
    "#data filtering\n",
    "import pandas as pd\n",
    "\n",
    "df1 = pd.read_csv('CL2.csv')\n",
    "df1['Date'] = pd.to_datetime(df1['Date'])\n",
    "df1['Date'] = df1['Date'].dt.strftime('%d-%m-%Y')\n",
    "df1.to_csv('CL.csv', index=False)"
   ]
  },
  {
   "cell_type": "code",
   "execution_count": 7,
   "id": "7e15a214",
   "metadata": {},
   "outputs": [],
   "source": [
    "import pandas as pd\n",
    "\n",
    "# To convert strings like \"51.2k\" to integers like 51200\n",
    "def convert_volume(volume):\n",
    "    if \"K\" in volume:\n",
    "        return int(float(volume.replace(\"K\", \"\")) * 1000)\n",
    "    elif \"M\" in volume:\n",
    "        return int(float(volume.replace(\"M\", \"\")) * 1000000)\n",
    "    elif \"B\" in volume:\n",
    "        return int(float(volume.replace(\"B\", \"\")) * 1000000000)\n",
    "       \n",
    "    else:\n",
    "        return int(volume)\n",
    "\n",
    "# Read the CSV file into a DataFrame and apply the volume conversion function\n",
    "df = pd.read_csv(\"CL.csv\", converters={\"Volume\": convert_volume})\n",
    "\n",
    "# Print the converted \"Volume\" column\n",
    "df.to_csv('CL2.csv', index=False)"
   ]
  },
  {
   "cell_type": "code",
   "execution_count": null,
   "id": "8b1e0c51",
   "metadata": {},
   "outputs": [],
   "source": []
  }
 ],
 "metadata": {
  "kernelspec": {
   "display_name": "Python 3 (ipykernel)",
   "language": "python",
   "name": "python3"
  },
  "language_info": {
   "codemirror_mode": {
    "name": "ipython",
    "version": 3
   },
   "file_extension": ".py",
   "mimetype": "text/x-python",
   "name": "python",
   "nbconvert_exporter": "python",
   "pygments_lexer": "ipython3",
   "version": "3.9.12"
  }
 },
 "nbformat": 4,
 "nbformat_minor": 5
}
